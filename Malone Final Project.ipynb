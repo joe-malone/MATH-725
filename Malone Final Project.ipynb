{
 "cells": [
  {
   "cell_type": "markdown",
   "metadata": {
    "collapsed": false
   },
   "source": [
    "# Title: Effective Resistance Calculations with Julia\n",
    "## Author: Joe Malone\n",
    "\n",
    "## Introduction:\n",
    "Using effective resistance to calculate the connectivity of a graph is a [commonly studied topic](https://www.nas.ewi.tudelft.nl/people/Piet/papers/LAA_2011_EffectiveResistance.pdf) in graph theory. It's applications can be used in recommender systems or any research that desires to know how closely related two nodes of a graph are. One of the main focuses of research in effective resistance relies on calculating effective resistance quickly and efficiently. This amounts to solving a Laplacian system of equations quickly and efficiently. Daniel Spielman and Shang Hua-Teng have been able to break through what was the previously supposed limit for run time of effective resistance calculators. They developed a [nearly-linear time solver](https://arxiv.org/abs/cs/0310051) for linear systems based off of previous work in graph theory. Daniel Spielman has written a library that includes this solver among others in the Laplacians.jl library for Julia.\n",
    "\n",
    "## Libraries Used:\n",
    "* [IPython](https://ipython.org/)\n",
    "* [Julia](https://julialang.org/)\n",
    "* [Laplacians](https://github.com/danspielman/Laplacians.jl)\n",
    "\n",
    "## Abstract:\n",
    "\n",
    "This project will examine the efficacy of the Laplacians library in Julia to calculate effective resistance between nodes in large networks. It will explain the usage of the library and show how to run through the calculations on a simple example at first and will then generalize the methods to more complicated networks. The project will mine data from the citeulike dataset for larger networks and then compare the nearly-linear time system solver to the exact solver to see which is quicker and more accurate. The last part of the project will allow readers to try creating different graphs and using the solver to calculate effective resistance between nodes. The project is mostly focused on displaying some of the capabilities of Julia and the Laplacians library.\n",
    "\n",
    "* [Github Repository](https://github.com/joe-malone/MATH-725-final.git) for This Project\n",
    "* Note that to run the code, you will need to first run `Pkg.add(\"Laplacians\")`"
   ]
  },
  {
   "cell_type": "code",
   "execution_count": 1,
   "metadata": {
    "collapsed": true
   },
   "outputs": [
   ],
   "source": [
    "using Laplacians"
   ]
  },
  {
   "cell_type": "markdown",
   "metadata": {
    "collapsed": false
   },
   "source": [
    "## Run through simple example to make sure the solver is working as we expect\n",
    "Note: This example is based off of a homework problem in MATH 725 at K-State  \n",
    "\n",
    "The below code creates the adjacency matrix for a simple undirected graph, sparsifies the adjacency matrix, and creates a linear system solver with the function from Laplacians.jl based off of Cholesky factorization of the Laplacian."
   ]
  },
  {
   "cell_type": "code",
   "execution_count": 2,
   "metadata": {
    "collapsed": false
   },
   "outputs": [
    {
     "name": "stdout",
     "output_type": "stream",
     "text": [
      "Solver build time: 0.323 seconds.\n",
      "Solver build time: 1.914 seconds.\n"
     ]
    },
    {
     "data": {
      "text/plain": [
       "(::#100) (generic function with 1 method)"
      ]
     },
     "execution_count": 2,
     "metadata": {
     },
     "output_type": "execute_result"
    }
   ],
   "source": [
    "# Test the solver with a known solution\n",
    "# V = { 1, 2, 3, 4, 5 }\n",
    "# E = {[1,2], [1,4], [2,3], [2,4], [3,4], [3,5], [4,5]}\n",
    "\n",
    "num_nodes = 5\n",
    "\n",
    "A = [0 1 0 1 0;\n",
    "     1 0 1 1 0;\n",
    "     0 1 0 1 1;\n",
    "     1 1 1 0 1;\n",
    "     0 0 1 1 0]\n",
    "\n",
    "simpleSparseAdj = sparse(A)\n",
    "solver = cholLap(simpleSparseAdj; verbose=true)"
   ]
  },
  {
   "cell_type": "markdown",
   "metadata": {
    "collapsed": false
   },
   "source": [
    "Since we set the verbose parameter to true, Julia will print out the time to build the solver and the time to solve a system of equations. The vector for we create has nonzero entries at the places of node 1 and node 5. The solver returns a vector of the relative resistances. By taking the difference of the entry at location 5 and the entry at location 1, we see the effective resistance between nodes 1 and 5. Note here that Julia has 1-indexed arrays, so the first position is 1, not 0 as in Python."
   ]
  },
  {
   "cell_type": "code",
   "execution_count": 3,
   "metadata": {
    "collapsed": false
   },
   "outputs": [
    {
     "name": "stdout",
     "output_type": "stream",
     "text": [
      "Solve time: 0.017 seconds.\n",
      "1.1428571428571426\n",
      "7.999999999999998\n"
     ]
    }
   ],
   "source": [
    "# Figure out how the solver works with a problem where we know the answer\n",
    "vec = [-1.0 0 0 0 1]   # Vector to compute effective resistance from node 1 to node 5\n",
    "soln = solver(vec)\n",
    "result = soln[5] - soln[1]\n",
    "println(result)\n",
    "println(result*7)"
   ]
  },
  {
   "cell_type": "markdown",
   "metadata": {
    "collapsed": false
   },
   "source": [
    "Next we will create a function to compute the effective resistance between two nodes more concisely. We first create a sparse vector so that we only need to initialize the nonzero entries. In Julia, it is much faster to create a full vector by calling full(vec) than going through and initializing all of the entries."
   ]
  },
  {
   "cell_type": "code",
   "execution_count": 13,
   "metadata": {
    "collapsed": false
   },
   "outputs": [
    {
     "data": {
      "text/plain": [
       "compute_effective_resistance (generic function with 1 method)"
      ]
     },
     "execution_count": 13,
     "metadata": {
     },
     "output_type": "execute_result"
    }
   ],
   "source": [
    "# Computes the effective resistance with the given solver between 2 nodes. Also pass in the number of nodes in the graph.\n",
    "function compute_effective_resistance(solver, node_1, node_2, num_nodes)\n",
    "    vec = sparsevec(Dict(node_1=>-1.0, node_2=>1.0), num_nodes)\n",
    "    soln = solver(full(vec))\n",
    "    soln[node_2] - soln[node_1]\n",
    "end"
   ]
  },
  {
   "cell_type": "markdown",
   "metadata": {
    "collapsed": false
   },
   "source": [
    "The following code will calculate the effective resistances in a matrix. The entry at x, y is the effective resistance between node x and node y."
   ]
  },
  {
   "cell_type": "code",
   "execution_count": 5,
   "metadata": {
    "collapsed": false,
    "scrolled": true
   },
   "outputs": [
    {
     "name": "stdout",
     "output_type": "stream",
     "text": [
      "Solve time: 0.0 seconds.\n",
      "Solve time: 0.0 seconds.\n",
      "Solve time: 0.0 seconds.\n",
      "Solve time: 0.0 seconds.\n",
      "Solve time: 0.0 seconds.\n",
      "Solve time: 0.0 seconds.\n",
      "Solve time: 0.0 seconds.\n",
      "Solve time: 0.0 seconds.\n",
      "Solve time: 0.0 seconds.\n",
      "Solve time: 0.0 seconds.\n"
     ]
    },
    {
     "data": {
      "text/plain": [
       "5×5 Symmetric{Float64,Array{Float64,2}}:\n",
       " 0.0       0.619048  0.904762  0.619048  1.14286 \n",
       " 0.619048  0.0       0.571429  0.47619   0.904762\n",
       " 0.904762  0.571429  0.0       0.47619   0.619048\n",
       " 0.619048  0.47619   0.47619   0.0       0.619048\n",
       " 1.14286   0.904762  0.619048  0.619048  0.0     "
      ]
     },
     "execution_count": 5,
     "metadata": {
     },
     "output_type": "execute_result"
    }
   ],
   "source": [
    "# Set up effective resistance matrix to hold all of the values\n",
    "R_effs = zeros(num_nodes, num_nodes)\n",
    "\n",
    "# Loop through to compute the upper values (diagonals will all be 0, lower will be reflection of upper)\n",
    "for x = 1:num_nodes-1\n",
    "    R_effs[x, x+1:num_nodes] = [compute_effective_resistance(solver, x, y, num_nodes) for y=x+1:num_nodes]\n",
    "end\n",
    "\n",
    "Symmetric(R_effs)"
   ]
  },
  {
   "cell_type": "markdown",
   "metadata": {
    "collapsed": false
   },
   "source": [
    "# Take what we have learned in the simple example and apply it to our weighted graph (the more complex case)"
   ]
  },
  {
   "cell_type": "markdown",
   "metadata": {
    "collapsed": false
   },
   "source": [
    "This code reads from the citeulike database and closes the connection to the file."
   ]
  },
  {
   "cell_type": "code",
   "execution_count": 6,
   "metadata": {
    "collapsed": true
   },
   "outputs": [
   ],
   "source": [
    "file_path = \"ctrsr_datasets/citeulike-a/users.dat\";\n",
    "num_users = 5551;     # from README of dataset\n",
    "num_papers = 16980;   # from README of dataset"
   ]
  },
  {
   "cell_type": "code",
   "execution_count": 7,
   "metadata": {
    "collapsed": true
   },
   "outputs": [
   ],
   "source": [
    "f = open(file_path, \"r\");\n",
    "lines = readlines(f);\n",
    "close(f);"
   ]
  },
  {
   "cell_type": "markdown",
   "metadata": {
    "collapsed": false
   },
   "source": [
    "### Code to iterate through the lines of the file and print content\n",
    "```\n",
    "counter = 1\n",
    "for l in lines\n",
    "    println(\"$counter $l\")\n",
    "    counter += 1\n",
    "end\n",
    "```"
   ]
  },
  {
   "cell_type": "markdown",
   "metadata": {
    "collapsed": false
   },
   "source": [
    "The `@time` macro shows the time it takes to run a command. In this case, we create an array of Sets. Each Set contains all of the citations from a particular user (based on the array position). We will use this to create a weighted adjacency matrix."
   ]
  },
  {
   "cell_type": "code",
   "execution_count": 8,
   "metadata": {
    "collapsed": false
   },
   "outputs": [
    {
     "name": "stdout",
     "output_type": "stream",
     "text": [
      "  0.223801 seconds (514.75 k allocations: 31.170 MiB, 5.77% gc time)\n"
     ]
    }
   ],
   "source": [
    "# Create the array of user-citations (each index represents a user, each element of a set is a citation)\n",
    "@time user_citations = [Set{String}(deleteat!(split(l,\" \"), 1)) for l in lines];"
   ]
  },
  {
   "cell_type": "markdown",
   "metadata": {
    "collapsed": true
   },
   "source": [
    "### Define the weight $\\omega$ of each edge as the following:\n",
    "If $|P_a| = 0$ or $|P_b| = 0$, then $\\omega = 0$\n",
    "otherwise, $\\omega$ = mean(s/$|P_a|$, s/$|P_b|$)    \n",
    "\n",
    "where $\\omega$ is the weight, $|P_a|$ is the number of papers node a has cited, $|P_b|$ is the number of papers node b has cited, and s is the number of papers that they have in common.  \n",
    "\n",
    "The following code creates a sparse adjacency matrix of all of the weights between users."
   ]
  },
  {
   "cell_type": "code",
   "execution_count": 9,
   "metadata": {
    "collapsed": false,
    "scrolled": true
   },
   "outputs": [
    {
     "data": {
      "text/plain": [
       "5551×5551 SparseMatrixCSC{Float64,Int64} with 2219312 stored entries:\n",
       "  [8   ,    1]  =  8.75\n",
       "  [18  ,    1]  =  24.7059\n",
       "  [47  ,    1]  =  85.8564\n",
       "  [56  ,    1]  =  75.9477\n",
       "  [75  ,    1]  =  63.4375\n",
       "  [76  ,    1]  =  24.4444\n",
       "  [78  ,    1]  =  23.3333\n",
       "  [123 ,    1]  =  18.5057\n",
       "  [128 ,    1]  =  53.2743\n",
       "  [167 ,    1]  =  29.8876\n",
       "  ⋮\n",
       "  [5461, 5551]  =  14.4444\n",
       "  [5468, 5551]  =  34.4416\n",
       "  [5473, 5551]  =  39.7091\n",
       "  [5478, 5551]  =  24.96\n",
       "  [5486, 5551]  =  40.5424\n",
       "  [5493, 5551]  =  42.4113\n",
       "  [5498, 5551]  =  24.96\n",
       "  [5512, 5551]  =  21.4933\n",
       "  [5518, 5551]  =  16.2029\n",
       "  [5522, 5551]  =  34.8861\n",
       "  [5524, 5551]  =  24.4082"
      ]
     },
     "execution_count": 9,
     "metadata": {
     },
     "output_type": "execute_result"
    }
   ],
   "source": [
    "# Note that the adjacency matrix will be symmetrical in this case, and all weights will be between 0 and 1\n",
    "# where 0 means that there is no citations in common and 1 means that all of the citations are in common\n",
    "Arr = Array{Float64, 2}(num_users, num_users);\n",
    "\n",
    "# Use indexes to initialize the array\n",
    "for user_a = 1:num_users\n",
    "    P_a = user_citations[user_a]\n",
    "    for user_b = user_a+1:num_users\n",
    "        # Since all array values initally zero, we only need to initialize the nonzero values\n",
    "        P_b = user_citations[user_b]\n",
    "        if length(intersect(P_a, P_b)) > 0\n",
    "            s = length(intersect(P_a, P_b))\n",
    "            Arr[user_a, user_b] = 1 / mean([s/length(P_a), s/length(P_b)])\n",
    "        end\n",
    "    end\n",
    "end\n",
    "\n",
    "# Use the array we have created to make a sparse adjacency matrix of the weighted graph\n",
    "sparseAdj = sparse(Symmetric(Arr))"
   ]
  },
  {
   "cell_type": "markdown",
   "metadata": {
    "collapsed": false
   },
   "source": [
    "The approxSolver is the algorithm that is supposed to run in nearly-linear time. The other solver is the exact solver that we used for the first example above."
   ]
  },
  {
   "cell_type": "code",
   "execution_count": 10,
   "metadata": {
    "collapsed": false
   },
   "outputs": [
    {
     "name": "stdout",
     "output_type": "stream",
     "text": [
      "Solver build time: 2.821 seconds.\n",
      "Solver build time: 3.763 seconds.\n",
      "Using wted degree ordering. Factorization time: 1.2601959705352783\n",
      "Ratio of operator edges to original edges: 1.4050065966389584\n",
      "ratio of max to min diagonal of laplacian : 5669.412534243794\n",
      "Solver build time: 1.835 seconds.\n"
     ]
    },
    {
     "data": {
      "text/plain": [
       "(::f) (generic function with 1 method)"
      ]
     },
     "execution_count": 10,
     "metadata": {
     },
     "output_type": "execute_result"
    }
   ],
   "source": [
    "# Create a solver and an approximate solver to see performance differences\n",
    "solver = cholLap(sparseAdj; verbose=true)\n",
    "approxSolver = approxCholLap(sparseAdj; tol=1e-9, verbose=true, params=ApproxCholParams(:wdeg))"
   ]
  },
  {
   "cell_type": "markdown",
   "metadata": {
    "collapsed": false
   },
   "source": [
    "## The following has been commented out because it took too long to run"
   ]
  },
  {
   "cell_type": "markdown",
   "metadata": {
    "collapsed": false
   },
   "source": [
    "## Running the below code gives the following results:\n",
    "Since the matrix is 5551 x 5551, the code finds the answers to the upper linear systems. This is equivalent to $5550/2 * 5551 = 15,404,025$ or about 15.5 million linear systems with 5551 equations each. Each of the linear systems takes around 0.05 seconds (rounded up) to solve based on the output of running this code for a couple minutes on my computer. If we approximate, that means the code will take ~775,000 seconds to run = ~12,900 minutes = ~215 hours = ~9 days. Keep in mind that this is using my early 2011 MacBook Pro with 4 GB memory. Since this is too long, we will run a shorter sample (just the first row of effective resistance).\n",
    "\n",
    "```\n",
    "# Set up effective resistance matrix to hold all of the values\n",
    "R_effs = zeros(num_users, num_users)\n",
    "\n",
    "# Loop through to compute the upper values (diagonals will all be 0, lower will be reflection of upper)\n",
    "for x = 1:num_users-1\n",
    "    R_effs[x, x+1:num_users] = [compute_effective_resistance(solver, x, y, num_users) for y=x+1:num_users]\n",
    "end\n",
    "\n",
    "Symmetric(R_effs)\n",
    "```"
   ]
  },
  {
   "cell_type": "markdown",
   "metadata": {
    "collapsed": false
   },
   "source": [
    "This code computes the first row of the effective resistance matrix with the exact solver since calculating all of the values took too long. Scrolling all the way to the bottom of the output shows the resulting matrix of effective resistances."
   ]
  },
  {
   "cell_type": "code",
   "execution_count": 11,
   "metadata": {
    "collapsed": false
   },
   "outputs": [
    {
     "name": "stdout",
     "output_type": "stream",
     "text": [
      "Solve time: 0.227 seconds.\n",
      "Solve time: 0.039 seconds.\n",
      "Solve time: 0.039 seconds.\n",
      "Solve time: 0.048 seconds.\n",
      "Solve time: 0.048 seconds.\n",
      "Solve time: 0.041 seconds.\n",
      "Solve time: 0.046 seconds.\n",
      "Solve time: 0.04 seconds.\n",
      "Solve time: 0.039 seconds.\n",
      "Solve time: 0.044 seconds.\n",
      "Solve time: 0.04 seconds.\n",
      "Solve time: 0.04 seconds.\n",
      "Solve time: 0.045 seconds.\n",
      "Solve time: 0.041 seconds.\n",
      "Solve time: 0.039 seconds.\n",
      "Solve time: 0.055 seconds.\n",
      "Solve time: 0.041 seconds.\n",
      "Solve time: 0.044 seconds.\n",
      "Solve time: 0.05 seconds.\n",
      "Solve time: 0.043 seconds.\n",
      "Solve time: 0.044 seconds.\n",
      "Solve time: 0.045 seconds.\n",
      "Solve time: 0.04 seconds.\n",
      "Solve time: 0.039 seconds.\n",
      "Solve time: 0.045 seconds.\n",
      "Solve time: 0.039 seconds.\n",
      "Solve time: 0.039 seconds.\n",
      "Solve time: 0.048 seconds.\n",
      "Solve time: 0.04 seconds.\n",
      "Solve time: 0.041 seconds.\n",
      "Solve time: 0.044 seconds.\n",
      "Solve time: 0.041 seconds.\n",
      "Solve time: 0.039 seconds.\n",
      "Solve time: 0.045 seconds.\n",
      "Solve time: 0.04 seconds.\n",
      "Solve time: 0.04 seconds.\n",
      "Solve time: 0.047 seconds.\n",
      "Solve time: 0.04 seconds.\n",
      "Solve time: 0.04 seconds.\n",
      "Solve time: 0.047 seconds.\n",
      "Solve time: 0.041 seconds.\n",
      "Solve time: 0.04 seconds.\n",
      "Solve time: 0.046 seconds.\n",
      "Solve time: 0.04 seconds.\n",
      "Solve time: 0.04 seconds.\n",
      "Solve time: 0.045 seconds.\n",
      "Solve time: 0.04 seconds.\n",
      "Solve time: 0.039 seconds.\n",
      "Solve time: 0.045 seconds.\n",
      "Solve time: 0.039 seconds.\n",
      "Solve time: 0.039 seconds.\n",
      "Solve time: 0.044 seconds.\n",
      "Solve time: 0.042 seconds.\n",
      "Solve time: 0.04 seconds.\n",
      "Solve time: 0.046 seconds.\n",
      "Solve time: 0.04 seconds.\n",
      "Solve time: 0.039 seconds.\n",
      "Solve time: 0.045 seconds.\n",
      "Solve time: 0.041 seconds.\n",
      "Solve time: 0.039 seconds.\n",
      "Solve time: 0.047 seconds.\n",
      "Solve time: 0.042 seconds.\n",
      "Solve time: 0.039 seconds.\n",
      "Solve time: 0.045 seconds.\n",
      "Solve time: 0.04 seconds.\n",
      "Solve time: 0.039 seconds.\n",
      "Solve time: 0.045 seconds.\n",
      "Solve time: 0.041 seconds.\n",
      "Solve time: 0.039 seconds.\n",
      "Solve time: 0.044 seconds.\n",
      "Solve time: 0.041 seconds.\n",
      "Solve time: 0.039 seconds.\n",
      "Solve time: 0.044 seconds.\n",
      "Solve time: 0.039 seconds.\n",
      "Solve time: 0.039 seconds.\n",
      "Solve time: 0.045 seconds.\n",
      "Solve time: 0.04 seconds.\n",
      "Solve time: 0.04 seconds.\n",
      "Solve time: 0.044 seconds.\n",
      "Solve time: 0.039 seconds.\n",
      "Solve time: 0.04 seconds.\n",
      "Solve time: 0.046 seconds.\n",
      "Solve time: 0.041 seconds.\n",
      "Solve time: 0.039 seconds.\n",
      "Solve time: 0.044 seconds.\n",
      "Solve time: 0.041 seconds.\n",
      "Solve time: 0.039 seconds.\n",
      "Solve time: 0.044 seconds.\n",
      "Solve time: 0.039 seconds.\n",
      "Solve time: 0.039 seconds.\n",
      "Solve time: 0.047 seconds.\n",
      "Solve time: 0.043 seconds.\n",
      "Solve time: 0.039 seconds.\n",
      "Solve time: 0.04 seconds.\n",
      "Solve time: 0.046 seconds.\n",
      "Solve time: 0.041 seconds.\n",
      "Solve time: 0.044 seconds.\n",
      "Solve time: 0.04 seconds.\n",
      "Solve time: 0.039 seconds.\n",
      "Solve time: 0.046 seconds.\n",
      "Solve time: 0.039 seconds.\n",
      "Solve time: 0.039 seconds.\n",
      "Solve time: 0.045 seconds.\n",
      "Solve time: 0.039 seconds.\n",
      "Solve time: 0.039 seconds.\n",
      "Solve time: 0.044 seconds.\n",
      "Solve time: 0.041 seconds.\n",
      "Solve time: 0.039 seconds.\n",
      "Solve time: 0.047 seconds.\n",
      "Solve time: 0.043 seconds.\n",
      "Solve time: 0.039 seconds.\n",
      "Solve time: 0.045 seconds.\n",
      "Solve time: 0.039 seconds.\n",
      "Solve time: 0.039 seconds.\n",
      "Solve time: 0.045 seconds.\n",
      "Solve time: 0.039 seconds.\n",
      "Solve time: 0.039 seconds.\n",
      "Solve time: 0.044 seconds.\n",
      "Solve time: 0.039 seconds.\n",
      "Solve time: 0.04 seconds.\n",
      "Solve time: 0.043 seconds.\n",
      "Solve time: 0.04 seconds.\n",
      "Solve time: 0.039 seconds.\n",
      "Solve time: 0.044 seconds.\n",
      "Solve time: 0.039 seconds.\n",
      "Solve time: 0.039 seconds.\n",
      "Solve time: 0.046 seconds.\n",
      "Solve time: 0.039 seconds.\n",
      "Solve time: 0.039 seconds.\n",
      "Solve time: 0.043 seconds.\n",
      "Solve time: 0.04 seconds.\n",
      "Solve time: 0.039 seconds.\n",
      "Solve time: 0.044 seconds.\n",
      "Solve time: 0.041 seconds.\n",
      "Solve time: 0.04 seconds.\n",
      "Solve time: 0.042 seconds.\n",
      "Solve time: 0.04 seconds.\n",
      "Solve time: 0.039 seconds.\n",
      "Solve time: 0.045 seconds.\n",
      "Solve time: 0.039 seconds.\n",
      "Solve time: 0.04 seconds.\n",
      "Solve time: 0.047 seconds.\n",
      "Solve time: 0.039 seconds.\n",
      "Solve time: 0.039 seconds.\n",
      "Solve time: 0.044 seconds.\n",
      "Solve time: 0.039 seconds.\n",
      "Solve time: 0.039 seconds.\n",
      "Solve time: 0.042 seconds.\n",
      "Solve time: 0.041 seconds.\n",
      "Solve time: 0.039 seconds.\n",
      "Solve time: 0.043 seconds.\n",
      "Solve time: 0.04 seconds.\n",
      "Solve time: 0.04 seconds.\n",
      "Solve time: 0.213 seconds.\n",
      "Solve time: 0.043 seconds.\n",
      "Solve time: 0.039 seconds.\n",
      "Solve time: 0.039 seconds.\n",
      "Solve time: 0.045 seconds.\n",
      "Solve time: 0.039 seconds.\n",
      "Solve time: 0.039 seconds.\n",
      "Solve time: 0.044 seconds.\n",
      "Solve time: 0.039 seconds.\n",
      "Solve time: 0.04 seconds.\n",
      "Solve time: 0.044 seconds.\n",
      "Solve time: 0.041 seconds.\n",
      "Solve time: 0.039 seconds.\n",
      "Solve time: 0.045 seconds.\n",
      "Solve time: 0.039 seconds.\n",
      "Solve time: 0.039 seconds.\n",
      "Solve time: 0.044 seconds.\n",
      "Solve time: 0.039 seconds.\n",
      "Solve time: 0.039 seconds.\n",
      "Solve time: 0.043 seconds.\n",
      "Solve time: 0.04 seconds.\n",
      "Solve time: 0.04 seconds.\n",
      "Solve time: 0.045 seconds.\n",
      "Solve time: 0.04 seconds.\n",
      "Solve time: 0.039 seconds.\n",
      "Solve time: 0.044 seconds.\n",
      "Solve time: 0.043 seconds.\n",
      "Solve time: 0.039 seconds.\n",
      "Solve time: 0.044 seconds.\n",
      "Solve time: 0.039 seconds.\n",
      "Solve time: 0.039 seconds.\n",
      "Solve time: 0.043 seconds.\n",
      "Solve time: 0.042 seconds.\n",
      "Solve time: 0.039 seconds.\n",
      "Solve time: 0.046 seconds.\n",
      "Solve time: 0.041 seconds.\n",
      "Solve time: 0.05 seconds.\n",
      "Solve time: 0.05 seconds.\n",
      "Solve time: 0.053 seconds.\n",
      "Solve time: 0.052 seconds.\n",
      "Solve time: 0.053 seconds.\n",
      "Solve time: 0.053 seconds.\n",
      "Solve time: 0.057 seconds.\n",
      "Solve time: 0.054 seconds.\n",
      "Solve time: 0.054 seconds.\n",
      "Solve time: 0.055 seconds.\n",
      "Solve time: 0.053 seconds.\n",
      "Solve time: 0.055 seconds.\n",
      "Solve time: 0.054 seconds.\n",
      "Solve time: 0.052 seconds.\n",
      "Solve time: 0.051 seconds.\n",
      "Solve time: 0.053 seconds.\n",
      "Solve time: 0.17 seconds.\n",
      "Solve time: 0.045 seconds.\n",
      "Solve time: 0.04 seconds.\n",
      "Solve time: 0.039 seconds.\n",
      "Solve time: 0.047 seconds.\n",
      "Solve time: 0.039 seconds.\n",
      "Solve time: 0.039 seconds.\n",
      "Solve time: 0.045 seconds.\n",
      "Solve time: 0.04 seconds.\n",
      "Solve time: 0.04 seconds.\n",
      "Solve time: 0.049 seconds.\n",
      "Solve time: 0.046 seconds.\n",
      "Solve time: 0.045 seconds.\n",
      "Solve time: 0.049 seconds.\n",
      "Solve time: 0.047 seconds.\n",
      "Solve time: 0.042 seconds.\n",
      "Solve time: 0.043 seconds.\n",
      "Solve time: 0.039 seconds.\n",
      "Solve time: 0.039 seconds.\n",
      "Solve time: 0.044 seconds.\n",
      "Solve time: 0.039 seconds.\n",
      "Solve time: 0.039 seconds.\n",
      "Solve time: 0.045 seconds.\n",
      "Solve time: 0.039 seconds.\n",
      "Solve time: 0.039 seconds.\n",
      "Solve time: 0.044 seconds.\n",
      "Solve time: 0.039 seconds.\n",
      "Solve time: 0.039 seconds.\n",
      "Solve time: 0.043 seconds.\n",
      "Solve time: 0.042 seconds.\n",
      "Solve time: 0.039 seconds.\n",
      "Solve time: 0.043 seconds.\n",
      "Solve time: 0.041 seconds.\n",
      "Solve time: 0.04 seconds.\n",
      "Solve time: 0.046 seconds.\n",
      "Solve time: 0.039 seconds.\n",
      "Solve time: 0.039 seconds.\n",
      "Solve time: 0.045 seconds.\n",
      "Solve time: 0.041 seconds.\n",
      "Solve time: 0.04 seconds.\n",
      "Solve time: 0.046 seconds.\n",
      "Solve time: 0.047 seconds.\n",
      "Solve time: 0.052 seconds.\n",
      "Solve time: 0.052 seconds.\n",
      "Solve time: 0.054 seconds.\n",
      "Solve time: 0.053 seconds.\n",
      "Solve time: 0.055 seconds.\n",
      "Solve time: 0.052 seconds.\n",
      "Solve time: 0.049 seconds.\n",
      "Solve time: 0.054 seconds.\n",
      "Solve time: 0.048 seconds.\n",
      "Solve time: 0.053 seconds.\n",
      "Solve time: 0.05 seconds.\n",
      "Solve time: 0.048 seconds.\n",
      "Solve time: 0.041 seconds.\n",
      "Solve time: 0.039 seconds.\n",
      "Solve time: 0.048 seconds.\n",
      "Solve time: 0.051 seconds.\n",
      "Solve time: 0.056 seconds.\n",
      "Solve time: 0.056 seconds.\n",
      "Solve time: 0.053 seconds.\n",
      "Solve time: 0.053 seconds.\n",
      "Solve time: 0.052 seconds.\n",
      "Solve time: 0.054 seconds.\n",
      "Solve time: 0.052 seconds.\n",
      "Solve time: 0.055 seconds.\n",
      "Solve time: 0.054 seconds.\n",
      "Solve time: 0.054 seconds.\n",
      "Solve time: 0.053 seconds.\n",
      "Solve time: 0.052 seconds.\n",
      "Solve time: 0.056 seconds.\n",
      "Solve time: 0.054 seconds.\n",
      "Solve time: 0.051 seconds.\n",
      "Solve time: 0.052 seconds.\n",
      "Solve time: 0.052 seconds.\n",
      "Solve time: 0.053 seconds.\n",
      "Solve time: 0.052 seconds.\n",
      "Solve time: 0.054 seconds.\n",
      "Solve time: 0.054 seconds.\n",
      "Solve time: 0.058 seconds.\n",
      "Solve time: 0.051 seconds.\n",
      "Solve time: 0.053 seconds.\n",
      "Solve time: 0.053 seconds.\n",
      "Solve time: 0.051 seconds.\n",
      "Solve time: 0.056 seconds.\n",
      "Solve time: 0.041 seconds.\n",
      "Solve time: 0.051 seconds.\n",
      "Solve time: 0.055 seconds.\n",
      "Solve time: 0.056 seconds.\n",
      "Solve time: 0.056 seconds.\n",
      "Solve time: 0.06 seconds.\n",
      "Solve time: 0.06 seconds.\n",
      "Solve time: 0.054 seconds.\n",
      "Solve time: 0.056 seconds.\n",
      "Solve time: 0.05 seconds.\n",
      "Solve time: 0.054 seconds.\n",
      "Solve time: 0.057 seconds.\n",
      "Solve time: 0.055 seconds.\n",
      "Solve time: 0.053 seconds.\n",
      "Solve time: 0.048 seconds.\n",
      "Solve time: 0.04 seconds.\n"
     ]
    },
    {
     "name": "stdout",
     "output_type": "stream",
     "text": [
      "Solve time: 0.039 seconds.\n",
      "Solve time: 0.047 seconds.\n",
      "Solve time: 0.04 seconds.\n",
      "Solve time: 0.039 seconds.\n",
      "Solve time: 0.047 seconds.\n",
      "Solve time: 0.039 seconds.\n",
      "Solve time: 0.04 seconds.\n",
      "Solve time: 0.044 seconds.\n",
      "Solve time: 0.04 seconds.\n",
      "Solve time: 0.039 seconds.\n",
      "Solve time: 0.047 seconds.\n",
      "Solve time: 0.045 seconds.\n",
      "Solve time: 0.045 seconds.\n",
      "Solve time: 0.051 seconds.\n",
      "Solve time: 0.046 seconds.\n",
      "Solve time: 0.044 seconds.\n",
      "Solve time: 0.049 seconds.\n",
      "Solve time: 0.039 seconds.\n",
      "Solve time: 0.039 seconds.\n",
      "Solve time: 0.045 seconds.\n",
      "Solve time: 0.039 seconds.\n",
      "Solve time: 0.039 seconds.\n",
      "Solve time: 0.044 seconds.\n",
      "Solve time: 0.039 seconds.\n",
      "Solve time: 0.039 seconds.\n",
      "Solve time: 0.043 seconds.\n",
      "Solve time: 0.039 seconds.\n",
      "Solve time: 0.039 seconds.\n",
      "Solve time: 0.044 seconds.\n",
      "Solve time: 0.04 seconds.\n",
      "Solve time: 0.039 seconds.\n",
      "Solve time: 0.044 seconds.\n",
      "Solve time: 0.039 seconds.\n",
      "Solve time: 0.039 seconds.\n",
      "Solve time: 0.045 seconds.\n",
      "Solve time: 0.04 seconds.\n",
      "Solve time: 0.039 seconds.\n",
      "Solve time: 0.046 seconds.\n",
      "Solve time: 0.039 seconds.\n",
      "Solve time: 0.04 seconds.\n",
      "Solve time: 0.044 seconds.\n",
      "Solve time: 0.04 seconds.\n",
      "Solve time: 0.041 seconds.\n",
      "Solve time: 0.044 seconds.\n",
      "Solve time: 0.04 seconds.\n",
      "Solve time: 0.041 seconds.\n",
      "Solve time: 0.045 seconds.\n",
      "Solve time: 0.041 seconds.\n",
      "Solve time: 0.04 seconds.\n",
      "Solve time: 0.044 seconds.\n",
      "Solve time: 0.04 seconds.\n",
      "Solve time: 0.039 seconds.\n",
      "Solve time: 0.046 seconds.\n",
      "Solve time: 0.04 seconds.\n",
      "Solve time: 0.04 seconds.\n",
      "Solve time: 0.044 seconds.\n",
      "Solve time: 0.039 seconds.\n",
      "Solve time: 0.042 seconds.\n",
      "Solve time: 0.045 seconds.\n",
      "Solve time: 0.039 seconds.\n",
      "Solve time: 0.039 seconds.\n",
      "Solve time: 0.045 seconds.\n",
      "Solve time: 0.039 seconds.\n",
      "Solve time: 0.039 seconds.\n",
      "Solve time: 0.046 seconds.\n",
      "Solve time: 0.039 seconds.\n",
      "Solve time: 0.04 seconds.\n",
      "Solve time: 0.044 seconds.\n",
      "Solve time: 0.039 seconds.\n",
      "Solve time: 0.039 seconds.\n",
      "Solve time: 0.044 seconds.\n",
      "Solve time: 0.039 seconds.\n",
      "Solve time: 0.039 seconds.\n",
      "Solve time: 0.044 seconds.\n",
      "Solve time: 0.039 seconds.\n",
      "Solve time: 0.039 seconds.\n",
      "Solve time: 0.045 seconds.\n",
      "Solve time: 0.039 seconds.\n",
      "Solve time: 0.039 seconds.\n",
      "Solve time: 0.044 seconds.\n",
      "Solve time: 0.039 seconds.\n",
      "Solve time: 0.04 seconds.\n",
      "Solve time: 0.043 seconds.\n",
      "Solve time: 0.042 seconds.\n",
      "Solve time: 0.039 seconds.\n",
      "Solve time: 0.043 seconds.\n",
      "Solve time: 0.04 seconds.\n",
      "Solve time: 0.039 seconds.\n",
      "Solve time: 0.043 seconds.\n",
      "Solve time: 0.04 seconds.\n",
      "Solve time: 0.039 seconds.\n",
      "Solve time: 0.044 seconds.\n",
      "Solve time: 0.04 seconds.\n",
      "Solve time: 0.039 seconds.\n",
      "Solve time: 0.044 seconds.\n",
      "Solve time: 0.039 seconds.\n",
      "Solve time: 0.039 seconds.\n",
      "Solve time: 0.043 seconds.\n",
      "Solve time: 0.039 seconds.\n",
      "Solve time: 0.039 seconds.\n",
      "Solve time: 0.043 seconds.\n",
      "Solve time: 0.048 seconds.\n",
      "Solve time: 0.039 seconds.\n",
      "Solve time: 0.043 seconds.\n",
      "Solve time: 0.039 seconds.\n",
      "Solve time: 0.039 seconds.\n",
      "Solve time: 0.042 seconds.\n",
      "Solve time: 0.04 seconds.\n",
      "Solve time: 0.039 seconds.\n",
      "Solve time: 0.044 seconds.\n",
      "Solve time: 0.039 seconds.\n",
      "Solve time: 0.039 seconds.\n",
      "Solve time: 0.044 seconds.\n",
      "Solve time: 0.04 seconds.\n",
      "Solve time: 0.039 seconds.\n",
      "Solve time: 0.044 seconds.\n",
      "Solve time: 0.04 seconds.\n",
      "Solve time: 0.039 seconds.\n",
      "Solve time: 0.047 seconds.\n",
      "Solve time: 0.039 seconds.\n",
      "Solve time: 0.039 seconds.\n",
      "Solve time: 0.044 seconds.\n",
      "Solve time: 0.039 seconds.\n",
      "Solve time: 0.039 seconds.\n",
      "Solve time: 0.043 seconds.\n",
      "Solve time: 0.039 seconds.\n",
      "Solve time: 0.04 seconds.\n",
      "Solve time: 0.043 seconds.\n",
      "Solve time: 0.039 seconds.\n",
      "Solve time: 0.039 seconds.\n",
      "Solve time: 0.044 seconds.\n",
      "Solve time: 0.04 seconds.\n",
      "Solve time: 0.039 seconds.\n",
      "Solve time: 0.043 seconds.\n",
      "Solve time: 0.039 seconds.\n",
      "Solve time: 0.039 seconds.\n",
      "Solve time: 0.045 seconds.\n",
      "Solve time: 0.039 seconds.\n",
      "Solve time: 0.039 seconds.\n",
      "Solve time: 0.044 seconds.\n",
      "Solve time: 0.039 seconds.\n",
      "Solve time: 0.04 seconds.\n",
      "Solve time: 0.043 seconds.\n",
      "Solve time: 0.039 seconds.\n",
      "Solve time: 0.039 seconds.\n",
      "Solve time: 0.046 seconds.\n",
      "Solve time: 0.039 seconds.\n",
      "Solve time: 0.04 seconds.\n",
      "Solve time: 0.045 seconds.\n",
      "Solve time: 0.042 seconds.\n",
      "Solve time: 0.048 seconds.\n",
      "Solve time: 0.055 seconds.\n",
      "Solve time: 0.053 seconds.\n",
      "Solve time: 0.056 seconds.\n",
      "Solve time: 0.056 seconds.\n",
      "Solve time: 0.05 seconds.\n",
      "Solve time: 0.042 seconds.\n",
      "Solve time: 0.04 seconds.\n",
      "Solve time: 0.046 seconds.\n",
      "Solve time: 0.042 seconds.\n",
      "Solve time: 0.053 seconds.\n",
      "Solve time: 0.058 seconds.\n",
      "Solve time: 0.054 seconds.\n",
      "Solve time: 0.058 seconds.\n",
      "Solve time: 0.058 seconds.\n",
      "Solve time: 0.058 seconds.\n",
      "Solve time: 0.06 seconds.\n",
      "Solve time: 0.055 seconds.\n",
      "Solve time: 0.054 seconds.\n",
      "Solve time: 0.054 seconds.\n",
      "Solve time: 0.049 seconds.\n",
      "Solve time: 0.046 seconds.\n",
      "Solve time: 0.042 seconds.\n",
      "Solve time: 0.039 seconds.\n",
      "Solve time: 0.046 seconds.\n",
      "Solve time: 0.039 seconds.\n",
      "Solve time: 0.039 seconds.\n",
      "Solve time: 0.044 seconds.\n",
      "Solve time: 0.039 seconds.\n",
      "Solve time: 0.039 seconds.\n",
      "Solve time: 0.045 seconds.\n",
      "Solve time: 0.04 seconds.\n",
      "Solve time: 0.043 seconds.\n",
      "Solve time: 0.052 seconds.\n",
      "Solve time: 0.055 seconds.\n",
      "Solve time: 0.056 seconds.\n",
      "Solve time: 0.055 seconds.\n",
      "Solve time: 0.056 seconds.\n",
      "Solve time: 0.052 seconds.\n",
      "Solve time: 0.055 seconds.\n",
      "Solve time: 0.051 seconds.\n",
      "Solve time: 0.054 seconds.\n",
      "Solve time: 0.043 seconds.\n",
      "Solve time: 0.04 seconds.\n",
      "Solve time: 0.048 seconds.\n",
      "Solve time: 0.04 seconds.\n",
      "Solve time: 0.039 seconds.\n",
      "Solve time: 0.044 seconds.\n",
      "Solve time: 0.04 seconds.\n",
      "Solve time: 0.039 seconds.\n",
      "Solve time: 0.045 seconds.\n",
      "Solve time: 0.039 seconds.\n",
      "Solve time: 0.039 seconds.\n",
      "Solve time: 0.044 seconds.\n",
      "Solve time: 0.039 seconds.\n",
      "Solve time: 0.039 seconds.\n",
      "Solve time: 0.044 seconds.\n",
      "Solve time: 0.046 seconds.\n",
      "Solve time: 0.047 seconds.\n",
      "Solve time: 0.047 seconds.\n",
      "Solve time: 0.045 seconds.\n",
      "Solve time: 0.047 seconds.\n",
      "Solve time: 0.049 seconds.\n",
      "Solve time: 0.041 seconds.\n",
      "Solve time: 0.039 seconds.\n",
      "Solve time: 0.044 seconds.\n",
      "Solve time: 0.039 seconds.\n",
      "Solve time: 0.039 seconds.\n",
      "Solve time: 0.043 seconds.\n",
      "Solve time: 0.04 seconds.\n",
      "Solve time: 0.039 seconds.\n",
      "Solve time: 0.043 seconds.\n",
      "Solve time: 0.039 seconds.\n",
      "Solve time: 0.039 seconds.\n",
      "Solve time: 0.044 seconds.\n",
      "Solve time: 0.039 seconds.\n",
      "Solve time: 0.039 seconds.\n",
      "Solve time: 0.045 seconds.\n",
      "Solve time: 0.039 seconds.\n",
      "Solve time: 0.039 seconds.\n",
      "Solve time: 0.042 seconds.\n",
      "Solve time: 0.04 seconds.\n",
      "Solve time: 0.039 seconds.\n",
      "Solve time: 0.043 seconds.\n",
      "Solve time: 0.039 seconds.\n",
      "Solve time: 0.039 seconds.\n",
      "Solve time: 0.048 seconds.\n",
      "Solve time: 0.04 seconds.\n",
      "Solve time: 0.039 seconds.\n",
      "Solve time: 0.043 seconds.\n",
      "Solve time: 0.04 seconds.\n",
      "Solve time: 0.039 seconds.\n",
      "Solve time: 0.044 seconds.\n",
      "Solve time: 0.039 seconds.\n",
      "Solve time: 0.039 seconds.\n",
      "Solve time: 0.044 seconds.\n",
      "Solve time: 0.039 seconds.\n",
      "Solve time: 0.039 seconds.\n",
      "Solve time: 0.045 seconds.\n",
      "Solve time: 0.04 seconds.\n",
      "Solve time: 0.039 seconds.\n",
      "Solve time: 0.046 seconds.\n",
      "Solve time: 0.04 seconds.\n",
      "Solve time: 0.039 seconds.\n",
      "Solve time: 0.044 seconds.\n",
      "Solve time: 0.039 seconds.\n",
      "Solve time: 0.039 seconds.\n",
      "Solve time: 0.047 seconds.\n",
      "Solve time: 0.039 seconds.\n",
      "Solve time: 0.039 seconds.\n",
      "Solve time: 0.043 seconds.\n",
      "Solve time: 0.039 seconds.\n",
      "Solve time: 0.039 seconds.\n",
      "Solve time: 0.044 seconds.\n",
      "Solve time: 0.04 seconds.\n",
      "Solve time: 0.039 seconds.\n",
      "Solve time: 0.043 seconds.\n",
      "Solve time: 0.041 seconds.\n",
      "Solve time: 0.039 seconds.\n",
      "Solve time: 0.043 seconds.\n",
      "Solve time: 0.039 seconds.\n",
      "Solve time: 0.04 seconds.\n",
      "Solve time: 0.046 seconds.\n",
      "Solve time: 0.039 seconds.\n",
      "Solve time: 0.039 seconds.\n",
      "Solve time: 0.043 seconds.\n",
      "Solve time: 0.039 seconds.\n",
      "Solve time: 0.041 seconds.\n",
      "Solve time: 0.044 seconds.\n",
      "Solve time: 0.039 seconds.\n",
      "Solve time: 0.039 seconds.\n",
      "Solve time: 0.044 seconds.\n",
      "Solve time: 0.039 seconds.\n",
      "Solve time: 0.039 seconds.\n",
      "Solve time: 0.044 seconds.\n",
      "Solve time: 0.04 seconds.\n",
      "Solve time: 0.039 seconds.\n",
      "Solve time: 0.05 seconds.\n",
      "Solve time: 0.039 seconds.\n",
      "Solve time: 0.04 seconds.\n",
      "Solve time: 0.045 seconds.\n",
      "Solve time: 0.039 seconds.\n",
      "Solve time: 0.039 seconds.\n",
      "Solve time: 0.044 seconds.\n",
      "Solve time: 0.04 seconds.\n",
      "Solve time: 0.039 seconds.\n",
      "Solve time: 0.043 seconds.\n",
      "Solve time: 0.039 seconds.\n",
      "Solve time: 0.039 seconds.\n",
      "Solve time: 0.043 seconds.\n",
      "Solve time: 0.039 seconds.\n",
      "Solve time: 0.039 seconds.\n",
      "Solve time: 0.044 seconds.\n",
      "Solve time: 0.039 seconds.\n",
      "Solve time: 0.039 seconds.\n",
      "Solve time: 0.043 seconds.\n",
      "Solve time: 0.039 seconds.\n"
     ]
    },
    {
     "name": "stderr",
     "output_type": "stream",
     "text": [
      "WARNING: Some output was deleted.\n"
     ]
    }
   ],
   "source": [
    "# Set up effective resistance matrix to hold all of the values\n",
    "R_effs = zeros(num_users, num_users)\n",
    "\n",
    "# Loop through to compute the upper values (diagonals will all be 0, lower will be reflection of upper)\n",
    "x = 1\n",
    "@time R_effs[x, x+1:num_users] = [compute_effective_resistance(solver, x, y, num_users) for y=x+1:num_users]\n",
    "\n",
    "sym_r_eff = Symmetric(R_effs)"
   ]
  },
  {
   "cell_type": "code",
   "execution_count": 12,
   "metadata": {
    "collapsed": false
   },
   "outputs": [
    {
     "data": {
      "text/plain": [
       "1"
      ]
     },
     "execution_count": 12,
     "metadata": {
     },
     "output_type": "execute_result"
    }
   ],
   "source": [
    "# Print out the number of components of our generated graph to make sure it is connected\n",
    "ncomp = 0\n",
    "for x in components(sparseAdj)\n",
    "    if x > ncomp\n",
    "       ncomp = x \n",
    "    end\n",
    "end\n",
    "ncomp"
   ]
  },
  {
   "cell_type": "markdown",
   "metadata": {
    "collapsed": false
   },
   "source": [
    "## Show that the exact solver is actually faster / more efficient than the approximate in this case\n",
    "The solve time of the exact solver is faster so it more than makes up for the solver generation time over multiple calculations. It also gives a more accurate result. The variable b is set up to be a random vector the size of the number of nodes in the network."
   ]
  },
  {
   "cell_type": "code",
   "execution_count": 13,
   "metadata": {
    "collapsed": false
   },
   "outputs": [
    {
     "name": "stdout",
     "output_type": "stream",
     "text": [
      "Solve time: 0.158 seconds.\n",
      "  0.159044 seconds (146 allocations: 374.844 KiB)\n",
      "1.847321618414873e-13\n"
     ]
    }
   ],
   "source": [
    "b = randn(num_users)\n",
    "b = b - mean(b)\n",
    "@time x = solver(b)\n",
    "la = lap(sparseAdj)\n",
    "println(norm(la*x - b))"
   ]
  },
  {
   "cell_type": "code",
   "execution_count": 14,
   "metadata": {
    "collapsed": false
   },
   "outputs": [
    {
     "name": "stdout",
     "output_type": "stream",
     "text": [
      "PCG Stopped due to small or large rho\n",
      "PCG stopped after: 0.242 seconds and 11 iterations with relative error 1.2281868750273784e-8.\n",
      "  0.678651 seconds (158.40 k allocations: 10.637 MiB)\n",
      "9.059024223143107e-7\n"
     ]
    }
   ],
   "source": [
    "@time y = approxSolver(b)\n",
    "println(norm(la*y - b))"
   ]
  },
  {
   "cell_type": "markdown",
   "metadata": {
    "collapsed": false
   },
   "source": [
    "# Make a function to go through all of the above steps and find $R_{eff}$"
   ]
  },
  {
   "cell_type": "markdown",
   "metadata": {
    "collapsed": false
   },
   "source": [
    "The following functions go through all of the steps in the above calcuations. We then run the functions with the same input to verify that it works."
   ]
  },
  {
   "cell_type": "code",
   "execution_count": 15,
   "metadata": {
    "collapsed": false
   },
   "outputs": [
    {
     "data": {
      "text/plain": [
       "find_graph_solver (generic function with 1 method)"
      ]
     },
     "execution_count": 15,
     "metadata": {
     },
     "output_type": "execute_result"
    }
   ],
   "source": [
    "function find_graph_solver(file_path, num_users)\n",
    "    println(\"Reading file info...\")\n",
    "    # Read info from the file\n",
    "    f = open(file_path, \"r\");\n",
    "    lines = readlines(f);\n",
    "    close(f);\n",
    "    \n",
    "    # Create user_citation array assuming same structure as complex example above\n",
    "    user_citations = [Set{String}(deleteat!(split(l,\" \"), 1)) for l in lines];\n",
    "    \n",
    "    # Create sparse adjacency matrix from the user_citations\n",
    "    Arr = Array{Float64, 2}(num_users, num_users);\n",
    "\n",
    "    println(\"Creating sparse adjacency matrix of the graph...\")\n",
    "    # Use indexes to initialize the array\n",
    "    for user_a = 1:num_users\n",
    "        P_a = user_citations[user_a]\n",
    "        for user_b = user_a+1:num_users\n",
    "            # Since all array values initally zero, we only need to initialize the nonzero values\n",
    "            P_b = user_citations[user_b]\n",
    "            if length(intersect(P_a, P_b)) > 0\n",
    "                s = length(intersect(P_a, P_b))\n",
    "                Arr[user_a, user_b] = 1 / mean([s/length(P_a), s/length(P_b)])\n",
    "            end\n",
    "        end\n",
    "    end\n",
    "\n",
    "    # Use the array we have created to make a sparse adjacency matrix of the weighted graph\n",
    "    sparseAdj = sparse(Symmetric(Arr))\n",
    "    \n",
    "    println(\"Creating a solver for the Laplacian...\")\n",
    "    # Create an exact solver for the given matrix\n",
    "    @time solver = cholLap(sparseAdj)\n",
    "end"
   ]
  },
  {
   "cell_type": "code",
   "execution_count": 16,
   "metadata": {
    "collapsed": false
   },
   "outputs": [
    {
     "data": {
      "text/plain": [
       "matrix_effective_resistance (generic function with 2 methods)"
      ]
     },
     "execution_count": 16,
     "metadata": {
     },
     "output_type": "execute_result"
    }
   ],
   "source": [
    "function matrix_effective_resistance(file_path, num_users, users=[1])\n",
    "    # Find the solver for our given matrix\n",
    "    solver = find_graph_solver(file_path, num_users) \n",
    "\n",
    "    # Use our solver to populate a matrix with requested values\n",
    "    # Set up effective resistance matrix to hold all of the values\n",
    "    R_effs = zeros(num_users, num_users)\n",
    "\n",
    "    println(\"Computing effective resistance for the specified users...\")\n",
    "    # Loop through to compute the upper values (diagonals will all be 0, lower will be reflection of upper)\n",
    "    for x in users\n",
    "        @time R_effs[x, x+1:num_users] = [compute_effective_resistance(solver, x, y, num_users) for y=x+1:num_users]\n",
    "    end\n",
    "        \n",
    "    return Symmetric(R_effs)\n",
    "end"
   ]
  },
  {
   "cell_type": "code",
   "execution_count": 17,
   "metadata": {
    "collapsed": false
   },
   "outputs": [
    {
     "name": "stdout",
     "output_type": "stream",
     "text": [
      "Reading file info...\n",
      "Creating sparse adjacency matrix of the graph...\n",
      "Creating a solver for the Laplacian...\n",
      "  3.370489 seconds (455 allocations: 465.185 MiB, 14.29% gc time)\n",
      "Computing effective resistance for the specified users...\n",
      "240.743755 seconds (324.65 k allocations: 2.210 GiB, 0.38% gc time)\n"
     ]
    },
    {
     "data": {
      "text/plain": [
       "5551×5551 Symmetric{Float64,Array{Float64,2}}:\n",
       " 0.0          0.000205194  0.000285793  …  0.000156147  0.000161774\n",
       " 0.000205194  0.0          0.0             0.0          0.0        \n",
       " 0.000285793  0.0          0.0             0.0          0.0        \n",
       " 0.000354298  0.0          0.0             0.0          0.0        \n",
       " 0.000787306  0.0          0.0             0.0          0.0        \n",
       " 0.000231772  0.0          0.0          …  0.0          0.0        \n",
       " 0.000698967  0.0          0.0             0.0          0.0        \n",
       " 0.000817729  0.0          0.0             0.0          0.0        \n",
       " 0.00020773   0.0          0.0             0.0          0.0        \n",
       " 0.000205428  0.0          0.0             0.0          0.0        \n",
       " 0.000202046  0.0          0.0          …  0.0          0.0        \n",
       " 0.000120226  0.0          0.0             0.0          0.0        \n",
       " 8.95147e-5   0.0          0.0             0.0          0.0        \n",
       " ⋮                                      ⋱               ⋮          \n",
       " 0.00015024   0.0          0.0             0.0          0.0        \n",
       " 0.000108428  0.0          0.0          …  0.0          0.0        \n",
       " 0.000481072  0.0          0.0             0.0          0.0        \n",
       " 0.000300429  0.0          0.0             0.0          0.0        \n",
       " 0.000224194  0.0          0.0             0.0          0.0        \n",
       " 0.000103271  0.0          0.0             0.0          0.0        \n",
       " 0.000199465  0.0          0.0          …  0.0          0.0        \n",
       " 0.00044543   0.0          0.0             0.0          0.0        \n",
       " 0.00027926   0.0          0.0             0.0          0.0        \n",
       " 0.000507999  0.0          0.0             0.0          0.0        \n",
       " 0.000156147  0.0          0.0             0.0          0.0        \n",
       " 0.000161774  0.0          0.0          …  0.0          0.0        "
      ]
     },
     "execution_count": 17,
     "metadata": {
     },
     "output_type": "execute_result"
    }
   ],
   "source": [
    "matrix_effective_resistance(file_path, num_users)"
   ]
  },
  {
   "cell_type": "code",
   "execution_count": 18,
   "metadata": {
    "collapsed": false
   },
   "outputs": [
    {
     "name": "stdout",
     "output_type": "stream",
     "text": [
      "Reading file info...\n",
      "Creating sparse adjacency matrix of the graph...\n",
      "Creating a solver for the Laplacian...\n",
      "  3.256036 seconds (521 allocations: 454.870 MiB, 12.81% gc time)\n",
      "Computing effective resistance for the specified users...\n",
      "355.134928 seconds (2.27 M allocations: 5.472 GiB, 0.24% gc time)\n"
     ]
    },
    {
     "data": {
      "text/plain": [
       "7947×7947 Symmetric{Float64,Array{Float64,2}}:\n",
       " 0.0         0.00134212  0.00245161  …  0.00130143  0.00217027  0.00246099\n",
       " 0.00134212  0.0         0.0            0.0         0.0         0.0       \n",
       " 0.00245161  0.0         0.0            0.0         0.0         0.0       \n",
       " 0.0192242   0.0         0.0            0.0         0.0         0.0       \n",
       " 0.00154903  0.0         0.0            0.0         0.0         0.0       \n",
       " 0.00395484  0.0         0.0         …  0.0         0.0         0.0       \n",
       " 0.00149509  0.0         0.0            0.0         0.0         0.0       \n",
       " 0.00915948  0.0         0.0            0.0         0.0         0.0       \n",
       " 0.0105719   0.0         0.0            0.0         0.0         0.0       \n",
       " 0.0359895   0.0         0.0            0.0         0.0         0.0       \n",
       " 0.00138732  0.0         0.0         …  0.0         0.0         0.0       \n",
       " 0.00354841  0.0         0.0            0.0         0.0         0.0       \n",
       " 0.00333695  0.0         0.0            0.0         0.0         0.0       \n",
       " ⋮                                   ⋱              ⋮                     \n",
       " 0.00324845  0.0         0.0         …  0.0         0.0         0.0       \n",
       " 0.00128795  0.0         0.0            0.0         0.0         0.0       \n",
       " 0.00500447  0.0         0.0            0.0         0.0         0.0       \n",
       " 0.00133811  0.0         0.0            0.0         0.0         0.0       \n",
       " 0.00136826  0.0         0.0            0.0         0.0         0.0       \n",
       " 0.00131395  0.0         0.0         …  0.0         0.0         0.0       \n",
       " 0.00209482  0.0         0.0            0.0         0.0         0.0       \n",
       " 0.00248422  0.0         0.0            0.0         0.0         0.0       \n",
       " 0.00169297  0.0         0.0            0.0         0.0         0.0       \n",
       " 0.00130143  0.0         0.0            0.0         0.0         0.0       \n",
       " 0.00217027  0.0         0.0         …  0.0         0.0         0.0       \n",
       " 0.00246099  0.0         0.0            0.0         0.0         0.0       "
      ]
     },
     "execution_count": 18,
     "metadata": {
     },
     "output_type": "execute_result"
    }
   ],
   "source": [
    "# Run calculations with the citeulike t dataset (it is slightly larger)\n",
    "citeulike_t = \"ctrsr_datasets/citeulike-t/users.dat\"\n",
    "num_t_users = 7947\n",
    "matrix_effective_resistance(citeulike_t, num_t_users)"
   ]
  },
  {
   "cell_type": "markdown",
   "metadata": {
    "collapsed": false
   },
   "source": [
    "# Create our own weighted adjacency matrix to test solving in a bigger network\n",
    "The wtedChimera command generates a sparse adjacency matrix of a weighted Chimera graph with 100000 nodes. It is one of the graph generators from the Laplacians library."
   ]
  },
  {
   "cell_type": "code",
   "execution_count": 16,
   "metadata": {
    "collapsed": false
   },
   "outputs": [
    {
     "data": {
      "text/plain": [
       "100000×100000 SparseMatrixCSC{Float64,Int64} with 781756 stored entries:\n",
       "  [1434  ,      1]  =  2.42915\n",
       "  [3572  ,      1]  =  2.10177\n",
       "  [4672  ,      1]  =  1.36739\n",
       "  [8224  ,      1]  =  2.82197\n",
       "  [27268 ,      1]  =  0.849172\n",
       "  [46566 ,      1]  =  1.90639\n",
       "  [51172 ,      1]  =  1.60818\n",
       "  [53136 ,      1]  =  2.81398\n",
       "  [11339 ,      2]  =  2.7729\n",
       "  [16550 ,      2]  =  2.94963\n",
       "  ⋮\n",
       "  [87194 ,  99998]  =  0.496562\n",
       "  [9877  ,  99999]  =  2.47561\n",
       "  [75289 ,  99999]  =  1.55287\n",
       "  [10828 , 100000]  =  1.47279\n",
       "  [14648 , 100000]  =  2.45439\n",
       "  [22137 , 100000]  =  2.02958\n",
       "  [50933 , 100000]  =  1.95538\n",
       "  [54899 , 100000]  =  1.81257\n",
       "  [62923 , 100000]  =  3.40848\n",
       "  [63272 , 100000]  =  1.93296\n",
       "  [68893 , 100000]  =  2.94271"
      ]
     },
     "execution_count": 16,
     "metadata": {
     },
     "output_type": "execute_result"
    }
   ],
   "source": [
    "num_nodes = 100000\n",
    "g = wtedChimera(num_nodes)"
   ]
  },
  {
   "cell_type": "markdown",
   "metadata": {
    "collapsed": false
   },
   "source": [
    "Once again, loop through the nodes and see that the graph is connected."
   ]
  },
  {
   "cell_type": "code",
   "execution_count": 17,
   "metadata": {
    "collapsed": false
   },
   "outputs": [
    {
     "data": {
      "text/plain": [
       "1"
      ]
     },
     "execution_count": 17,
     "metadata": {
     },
     "output_type": "execute_result"
    }
   ],
   "source": [
    "x = 0\n",
    "for i in components(g)\n",
    "    if i > x\n",
    "       x = i \n",
    "    end\n",
    "end\n",
    "x"
   ]
  },
  {
   "cell_type": "markdown",
   "metadata": {
    "collapsed": false
   },
   "source": [
    "This creates the solver based off of Cholesky factorization and the approximate Cholesky solver again. We can see that the approximate solver is generated much faster."
   ]
  },
  {
   "cell_type": "code",
   "execution_count": 19,
   "metadata": {
    "collapsed": false
   },
   "outputs": [
    {
     "name": "stdout",
     "output_type": "stream",
     "text": [
      "Solver build time: 5.379 seconds.\n",
      "Solver build time: 5.584 seconds.\n",
      "Using wted degree ordering. Factorization time: 0.7999169826507568\n",
      "Ratio of operator edges to original edges: 3.170902429914193\n",
      "ratio of max to min diagonal of laplacian : 194.99363353876078\n",
      "Solver build time: 1.204 seconds.\n"
     ]
    },
    {
     "data": {
      "text/plain": [
       "(::f) (generic function with 1 method)"
      ]
     },
     "execution_count": 19,
     "metadata": {
     },
     "output_type": "execute_result"
    }
   ],
   "source": [
    "f = cholLap(g, verbose=true)\n",
    "app_f = approxCholLap(g, tol=1e-9, verbose=true, params=ApproxCholParams(:wdeg))"
   ]
  },
  {
   "cell_type": "markdown",
   "metadata": {
    "collapsed": false
   },
   "source": [
    "Here, we see that solving the system using each of the solvers is much faster with the exact solver. Thus, solving for a significant number of nodes will be faster using the exact solver than the approximate solver. The difference in solving time will eventually make up for the difference of generation time."
   ]
  },
  {
   "cell_type": "code",
   "execution_count": 20,
   "metadata": {
    "collapsed": false
   },
   "outputs": [
    {
     "name": "stdout",
     "output_type": "stream",
     "text": [
      "Solve time: 0.244 seconds.\n",
      "0.18057867320803223  0.248062 seconds (195 allocations: 6.885 MiB)\n",
      "PCG Stopped due to small or large rho\n",
      "PCG stopped after: 0.717 seconds and 26 iterations with relative error 2.4203112232353252e-8.\n",
      "0.18057867320803211  0.835337 seconds (36.73 k allocations: 67.631 MiB, 15.08% gc time)\n"
     ]
    }
   ],
   "source": [
    "@time print(compute_effective_resistance(f, 1, 3140, num_nodes))\n",
    "@time print(compute_effective_resistance(app_f, 1, 3140, num_nodes))"
   ]
  },
  {
   "cell_type": "markdown",
   "metadata": {
    "collapsed": false
   },
   "source": [
    "## This is a verification that running the full(vec) command is very fast and takes very little memory."
   ]
  },
  {
   "cell_type": "code",
   "execution_count": 25,
   "metadata": {
    "collapsed": false
   },
   "outputs": [
    {
     "name": "stdout",
     "output_type": "stream",
     "text": [
      "  0.002660 seconds (22 allocations: 782.594 KiB)\n"
     ]
    },
    {
     "name": "stderr",
     "output_type": "stream",
     "text": [
      "WARNING: imported binding for vec overwritten in module Main\n"
     ]
    },
    {
     "data": {
      "text/plain": [
       "100000-element Array{Float64,1}:\n",
       " -1.0\n",
       "  1.0\n",
       "  0.0\n",
       "  0.0\n",
       "  0.0\n",
       "  0.0\n",
       "  0.0\n",
       "  0.0\n",
       "  0.0\n",
       "  0.0\n",
       "  0.0\n",
       "  0.0\n",
       "  0.0\n",
       "  ⋮  \n",
       "  0.0\n",
       "  0.0\n",
       "  0.0\n",
       "  0.0\n",
       "  0.0\n",
       "  0.0\n",
       "  0.0\n",
       "  0.0\n",
       "  0.0\n",
       "  0.0\n",
       "  0.0\n",
       "  0.0"
      ]
     },
     "execution_count": 25,
     "metadata": {
     },
     "output_type": "execute_result"
    }
   ],
   "source": [
    "vec = sparsevec(Dict(1=>-1.0, 2=>1.0), 100000)\n",
    "@time full(vec)"
   ]
  },
  {
   "cell_type": "markdown",
   "metadata": {
    "collapsed": false
   },
   "source": [
    "## User Interactive Section\n",
    "In the cells below, create a large graph with one of the [graph generators](http://danspielman.github.io/Laplacians.jl/latest/graphGenerators/index.html#generators) from the Laplacians library. Create an approximate solver and an exact solver and find the effective resistance between any two nodes. See which solver is more efficient for different types of graphs using the `@time` macro. Does this change based on the size of the graph? If you get lost, use the test above as an example."
   ]
  },
  {
   "cell_type": "code",
   "execution_count": 0,
   "metadata": {
    "collapsed": false
   },
   "outputs": [
   ],
   "source": [
   ]
  }
 ],
 "metadata": {
  "kernelspec": {
   "display_name": "Julia",
   "language": "julia",
   "name": "julia"
  },
  "language_info": {
   "file_extension": ".jl",
   "mimetype": "application/julia",
   "name": "julia",
   "version": "0.6.0"
  }
 },
 "nbformat": 4,
 "nbformat_minor": 0
}